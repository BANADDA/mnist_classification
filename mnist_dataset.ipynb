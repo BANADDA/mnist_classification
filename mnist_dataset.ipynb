{
  "nbformat": 4,
  "nbformat_minor": 0,
  "metadata": {
    "colab": {
      "name": "mnist_dataset.ipynb",
      "provenance": [],
      "authorship_tag": "ABX9TyPsUDMaAklHmF3bf2bdWzm0",
      "include_colab_link": true
    },
    "kernelspec": {
      "name": "python3",
      "display_name": "Python 3"
    },
    "language_info": {
      "name": "python"
    }
  },
  "cells": [
    {
      "cell_type": "markdown",
      "metadata": {
        "id": "view-in-github",
        "colab_type": "text"
      },
      "source": [
        "<a href=\"https://colab.research.google.com/github/BANADDA/mnist_classification/blob/main/mnist_dataset.ipynb\" target=\"_parent\"><img src=\"https://colab.research.google.com/assets/colab-badge.svg\" alt=\"Open In Colab\"/></a>"
      ]
    },
    {
      "cell_type": "code",
      "execution_count": 2,
      "metadata": {
        "id": "pXlwyynZ3DPA"
      },
      "outputs": [],
      "source": [
        "import tensorflow as tf\n",
        "from tensorflow import keras #High level API for building Neural Networks\n",
        "from tensorflow.keras import layers #Importing Keras APIs\n",
        "from tensorflow.keras.datasets import mnist #importing tensorflow mnist dataset"
      ]
    },
    {
      "cell_type": "code",
      "source": [
        "(x_train, y_train), (x_test, y_test) = mnist.load_data()"
      ],
      "metadata": {
        "colab": {
          "base_uri": "https://localhost:8080/"
        },
        "id": "-5Zj-AFQ3RnH",
        "outputId": "5aa44232-e129-43b4-b427-eb299bc1b866"
      },
      "execution_count": 4,
      "outputs": [
        {
          "output_type": "stream",
          "name": "stdout",
          "text": [
            "Downloading data from https://storage.googleapis.com/tensorflow/tf-keras-datasets/mnist.npz\n",
            "11493376/11490434 [==============================] - 0s 0us/step\n",
            "11501568/11490434 [==============================] - 0s 0us/step\n"
          ]
        }
      ]
    },
    {
      "cell_type": "code",
      "source": [
        "print(x_train.shape)\n",
        "print(y_train.shape)"
      ],
      "metadata": {
        "colab": {
          "base_uri": "https://localhost:8080/"
        },
        "id": "4R_qkocj40L2",
        "outputId": "cef24495-f040-45e8-f387-bd81b151447e"
      },
      "execution_count": 6,
      "outputs": [
        {
          "output_type": "stream",
          "name": "stdout",
          "text": [
            "(60000, 28, 28)\n",
            "(60000,)\n"
          ]
        }
      ]
    },
    {
      "cell_type": "markdown",
      "source": [
        "**Flattenig the data before sending them to neural network**"
      ],
      "metadata": {
        "id": "fUYTS-Ib5Q3C"
      }
    },
    {
      "cell_type": "code",
      "source": [
        "x_train = x_train.reshape(-1, 28*28).astype(\"float32\") / 255.0\n",
        "x_test = x_test.reshape(-1, 28*28).astype(\"float32\")  / 255.0"
      ],
      "metadata": {
        "id": "zxTpvMrj5E3u"
      },
      "execution_count": 10,
      "outputs": []
    },
    {
      "cell_type": "markdown",
      "source": [
        "**Building Neural Network/Model**"
      ],
      "metadata": {
        "id": "1gnyfP8166ug"
      }
    },
    {
      "cell_type": "markdown",
      "source": [
        "**Using Sequential API**"
      ],
      "metadata": {
        "id": "f0Tnoy7t7FBe"
      }
    },
    {
      "cell_type": "code",
      "source": [
        "model = keras.Sequential(\n",
        "    #List of layer(Neural Networks)\n",
        "    [\n",
        "     keras.Input(shape=(28*28)),\n",
        "     layers.Dense(512, activation='relu'),\n",
        "     layers.Dense(256, activation='relu'),\n",
        "     layers.Dense(10),\n",
        "    ]\n",
        ")"
      ],
      "metadata": {
        "id": "aVI1wEwI7BrX"
      },
      "execution_count": 24,
      "outputs": []
    },
    {
      "cell_type": "code",
      "source": [
        "print(model.summary())"
      ],
      "metadata": {
        "colab": {
          "base_uri": "https://localhost:8080/"
        },
        "id": "uvyTiwBtCCEV",
        "outputId": "9fe77833-7a8d-4a46-91c5-596157dda4b7"
      },
      "execution_count": 27,
      "outputs": [
        {
          "output_type": "stream",
          "name": "stdout",
          "text": [
            "Model: \"sequential_2\"\n",
            "_________________________________________________________________\n",
            " Layer (type)                Output Shape              Param #   \n",
            "=================================================================\n",
            " dense_6 (Dense)             (None, 512)               401920    \n",
            "                                                                 \n",
            " dense_7 (Dense)             (None, 256)               131328    \n",
            "                                                                 \n",
            " dense_8 (Dense)             (None, 10)                2570      \n",
            "                                                                 \n",
            "=================================================================\n",
            "Total params: 535,818\n",
            "Trainable params: 535,818\n",
            "Non-trainable params: 0\n",
            "_________________________________________________________________\n",
            "None\n"
          ]
        }
      ]
    },
    {
      "cell_type": "markdown",
      "source": [
        "**Configuring training data/specifying network configurations**"
      ],
      "metadata": {
        "id": "TSAu2uK48yjm"
      }
    },
    {
      "cell_type": "code",
      "source": [
        "model.compile(\n",
        "    loss = keras.losses.SparseCategoricalCrossentropy(from_logits=True), #Because we didnt use softmax activation\n",
        "    optimizer = keras.optimizers.Adam(learning_rate=0.001),\n",
        "    metrics = [\"accuracy\"],\n",
        ")"
      ],
      "metadata": {
        "id": "S6i0r0vA8Lyd"
      },
      "execution_count": 21,
      "outputs": []
    },
    {
      "cell_type": "code",
      "source": [
        "model.fit(x_train, y_train, batch_size=32, epochs=5, verbose=2)\n",
        "model.evaluate(x_test, y_test, batch_size=32, verbose=2)"
      ],
      "metadata": {
        "colab": {
          "base_uri": "https://localhost:8080/"
        },
        "id": "xDvApLRr-xtW",
        "outputId": "ad9a55fa-36a0-4e52-e3f0-140a560a5fcb"
      },
      "execution_count": 22,
      "outputs": [
        {
          "output_type": "stream",
          "name": "stdout",
          "text": [
            "Epoch 1/5\n",
            "1875/1875 - 11s - loss: 2.3016 - accuracy: 0.1118 - 11s/epoch - 6ms/step\n",
            "Epoch 2/5\n",
            "1875/1875 - 10s - loss: 2.3015 - accuracy: 0.1124 - 10s/epoch - 5ms/step\n",
            "Epoch 3/5\n",
            "1875/1875 - 10s - loss: 2.3014 - accuracy: 0.1124 - 10s/epoch - 5ms/step\n",
            "Epoch 4/5\n",
            "1875/1875 - 10s - loss: 2.3014 - accuracy: 0.1124 - 10s/epoch - 5ms/step\n",
            "Epoch 5/5\n",
            "1875/1875 - 10s - loss: 2.3013 - accuracy: 0.1124 - 10s/epoch - 5ms/step\n",
            "313/313 - 1s - loss: 2.4273 - accuracy: 0.1262 - 853ms/epoch - 3ms/step\n"
          ]
        },
        {
          "output_type": "execute_result",
          "data": {
            "text/plain": [
              "[2.4273183345794678, 0.12620000541210175]"
            ]
          },
          "metadata": {},
          "execution_count": 22
        }
      ]
    },
    {
      "cell_type": "code",
      "source": [
        ""
      ],
      "metadata": {
        "id": "H35r5GLX_ne7"
      },
      "execution_count": null,
      "outputs": []
    }
  ]
}